{
 "cells": [
  {
   "cell_type": "code",
   "execution_count": 3,
   "metadata": {
    "collapsed": false
   },
   "outputs": [],
   "source": [
    "import pandas as pd\n",
    "import numpy as np\n",
    "df = pd.read_csv(\"hospitaldata.csv\", sep=\",\", na_values=\"-\")\n",
    "# print \"file has been added\"\n"
   ]
  },
  {
   "cell_type": "markdown",
   "metadata": {},
   "source": [
    "# Question 1."
   ]
  },
  {
   "cell_type": "code",
   "execution_count": 4,
   "metadata": {
    "collapsed": false
   },
   "outputs": [
    {
     "name": "stdout",
     "output_type": "stream",
     "text": [
      "Index([u'Date', u'id', u'Time', u'Age', u'Sex', u'Consulting_Doctor',\n",
      "       u'Specialty', u'Procedure', u'Total_Charges', u'Amount_Received_',\n",
      "       u'Amount_Balance', u'Amount_Received_By', u'Amount_in_Hospital',\n",
      "       u'Receptionist_Name', u'Next_Apt'],\n",
      "      dtype='object')\n",
      "*************************************\n",
      "*************************************\n"
     ]
    }
   ],
   "source": [
    "# Q1.  remove the dots in the names\n",
    "df = df.rename(columns=lambda x: x.replace('.', ' '))\n",
    "df = df.rename(columns=lambda x: x.replace('  ', '_'))\n",
    "df = df.rename(columns=lambda x: x.replace(' ', '_'))\n",
    "print df.columns\n",
    "print \"*************************************\"\n",
    "print \"*************************************\""
   ]
  },
  {
   "cell_type": "markdown",
   "metadata": {},
   "source": [
    "# Question 2."
   ]
  },
  {
   "cell_type": "code",
   "execution_count": 5,
   "metadata": {
    "collapsed": false
   },
   "outputs": [
    {
     "name": "stdout",
     "output_type": "stream",
     "text": [
      "51\n",
      "Monday\n",
      "*************************************\n",
      "*************************************\n"
     ]
    }
   ],
   "source": [
    "# Q2. Which day of the week is expected to have most visits? \n",
    "\n",
    "new_df = pd.DataFrame(df.Date.str.split(',',1).tolist(), columns = ['Day','Date'])\n",
    "print new_df['Day'].value_counts().max()\n",
    "print new_df['Day'].value_counts().idxmax()\n",
    "print \"*************************************\"\n",
    "print \"*************************************\""
   ]
  },
  {
   "cell_type": "markdown",
   "metadata": {},
   "source": [
    "# Queston 3."
   ]
  },
  {
   "cell_type": "code",
   "execution_count": 6,
   "metadata": {
    "collapsed": false
   },
   "outputs": [
    {
     "name": "stdout",
     "output_type": "stream",
     "text": [
      "32.734375\n",
      "*************************************\n",
      "*************************************\n"
     ]
    }
   ],
   "source": [
    "# 3.  What is the average age of patients? \n",
    "df['Age'] = pd.to_numeric(df.Age, errors='coerce')\n",
    "print df['Age'].mean()\n",
    "print \"*************************************\"\n",
    "print \"*************************************\""
   ]
  },
  {
   "cell_type": "markdown",
   "metadata": {},
   "source": [
    "# Question 4."
   ]
  },
  {
   "cell_type": "code",
   "execution_count": 7,
   "metadata": {
    "collapsed": false
   },
   "outputs": [
    {
     "name": "stdout",
     "output_type": "stream",
     "text": [
      "23\n",
      "*************************************\n",
      "*************************************\n"
     ]
    }
   ],
   "source": [
    "# 4. How many children were entertained? (Make a Bracket of Age from 1-12)\n",
    "print len(list(filter(lambda x: x < 12, df['Age'])))\n",
    "print \"*************************************\"\n",
    "print \"*************************************\""
   ]
  },
  {
   "cell_type": "markdown",
   "metadata": {},
   "source": [
    "# Question 5."
   ]
  },
  {
   "cell_type": "code",
   "execution_count": 8,
   "metadata": {
    "collapsed": false
   },
   "outputs": [
    {
     "name": "stdout",
     "output_type": "stream",
     "text": [
      "Sex  Specialty         \n",
      "F    Dentist               57\n",
      "     Gynae                 13\n",
      "     M/o                    7\n",
      "     Orthopedic             5\n",
      "     Psychotherapist        4\n",
      "     Child Specialist       3\n",
      "     Radiologist            3\n",
      "     General Surgeon        2\n",
      "     Dental                 1\n",
      "     ENT                    1\n",
      "     Medical Specialist     1\n",
      "M    Dentist               46\n",
      "     Psychotherapist       10\n",
      "     M/o                    8\n",
      "     Child Specialist       7\n",
      "     Orthopedic             3\n",
      "     Radiologist            3\n",
      "     General Surgeon        2\n",
      "     Medical Specialist     2\n",
      "     Anaesthetist           1\n",
      "     Dermatologist          1\n",
      "NAN  Child Specialist       1\n",
      "Name: Specialty, dtype: int64\n",
      "*************************************\n",
      "*************************************\n"
     ]
    }
   ],
   "source": [
    "df['Sex'] = map(lambda x: str(x).replace(\"-\", \"\"), df['Sex'])\n",
    "df['Sex'] = map(lambda x: str(x).upper(), df['Sex'])\n",
    "print df.groupby(['Sex']).Specialty.value_counts()\n",
    "print \"*************************************\"\n",
    "print \"*************************************\""
   ]
  },
  {
   "cell_type": "markdown",
   "metadata": {},
   "source": [
    "# Question 6."
   ]
  },
  {
   "cell_type": "code",
   "execution_count": 9,
   "metadata": {
    "collapsed": false
   },
   "outputs": [
    {
     "name": "stdout",
     "output_type": "stream",
     "text": [
      "513050.0\n",
      "Dr Alaf Khan\n",
      "*************************************\n",
      "*************************************\n"
     ]
    }
   ],
   "source": [
    "# 6. Which Doctor is earning highest?\n",
    "\n",
    "df['Total_Charges'] = pd.to_numeric(df['Total_Charges'], errors='coerce')\n",
    "print df.groupby(['Consulting_Doctor']).Total_Charges.sum().max()\n",
    "print df.groupby(['Consulting_Doctor']).Total_Charges.sum().idxmax()\n",
    "print \"*************************************\"\n",
    "print \"*************************************\""
   ]
  },
  {
   "cell_type": "markdown",
   "metadata": {},
   "source": [
    "# Question 7."
   ]
  },
  {
   "cell_type": "code",
   "execution_count": 10,
   "metadata": {
    "collapsed": false
   },
   "outputs": [
    {
     "name": "stdout",
     "output_type": "stream",
     "text": [
      "240000.0\n",
      "Orthodontics\n",
      "*************************************\n",
      "*************************************\n"
     ]
    }
   ],
   "source": [
    "# 7. Which procedure type earns more money? \n",
    "\n",
    "print df.groupby(['Procedure']).Total_Charges.sum().max()\n",
    "print df.groupby(['Procedure']).Total_Charges.sum().idxmax()\n",
    "print \"*************************************\"\n",
    "print \"*************************************\""
   ]
  },
  {
   "cell_type": "markdown",
   "metadata": {},
   "source": [
    "# Question 8."
   ]
  },
  {
   "cell_type": "code",
   "execution_count": 11,
   "metadata": {
    "collapsed": false
   },
   "outputs": [
    {
     "name": "stdout",
     "output_type": "stream",
     "text": [
      "The time with highets frequency: \n"
     ]
    },
    {
     "data": {
      "text/html": [
       "<div>\n",
       "<table border=\"1\" class=\"dataframe\">\n",
       "  <thead>\n",
       "    <tr style=\"text-align: right;\">\n",
       "      <th></th>\n",
       "      <th>Visits</th>\n",
       "    </tr>\n",
       "    <tr>\n",
       "      <th>Hour</th>\n",
       "      <th></th>\n",
       "    </tr>\n",
       "  </thead>\n",
       "  <tbody>\n",
       "    <tr>\n",
       "      <th>13.0</th>\n",
       "      <td>29</td>\n",
       "    </tr>\n",
       "  </tbody>\n",
       "</table>\n",
       "</div>"
      ],
      "text/plain": [
       "      Visits\n",
       "Hour        \n",
       "13.0      29"
      ]
     },
     "execution_count": 11,
     "metadata": {},
     "output_type": "execute_result"
    }
   ],
   "source": [
    "# 8. Which time of the day has highest frequency of visits by hour?\n",
    "# import datetime as dt\n",
    "# import dateutil.parser as dparser\n",
    "new_time = df[['Time']].copy()\n",
    "new_time.Time[0] = new_time.Time[0]+\"AM\"\n",
    "\n",
    "df.Time = new_time.Time\n",
    "df.Time = df.Time.replace('-',np.nan)\n",
    "df.Time = pd.to_datetime(df.Time,format = '%I:%M%p')\n",
    "# creating hour colur\n",
    "df['Hour'] = df.Time.dt.hour\n",
    "\n",
    "visits = df[['Hour']].copy()\n",
    "visits['Visits']=0\n",
    "visits = visits.groupby(['Hour']).agg({'Visits':\"count\"})\n",
    "visits = visits.sort_values(by=['Visits'],ascending=False)\n",
    "print \"The time with highets frequency: \";\n",
    "visits.head(n=1)"
   ]
  },
  {
   "cell_type": "markdown",
   "metadata": {},
   "source": [
    "# Question 10."
   ]
  },
  {
   "cell_type": "code",
   "execution_count": 12,
   "metadata": {
    "collapsed": false
   },
   "outputs": [
    {
     "name": "stdout",
     "output_type": "stream",
     "text": [
      "37\n",
      "*************************************\n",
      "*************************************\n"
     ]
    }
   ],
   "source": [
    "#10. How many patients are repeated visitors?\n",
    "\n",
    "print sum(df['id'].value_counts() > 1)\n",
    "print \"*************************************\"\n",
    "print \"*************************************\""
   ]
  },
  {
   "cell_type": "markdown",
   "metadata": {},
   "source": [
    "# Question 11."
   ]
  },
  {
   "cell_type": "code",
   "execution_count": 13,
   "metadata": {
    "collapsed": false
   },
   "outputs": [
    {
     "name": "stdout",
     "output_type": "stream",
     "text": [
      "[1, 4, 12, 13, 17, 20, 25, 40, 45, 46, 59, 63, 64, 80, 88, 94, 96, 97, 100, 101, 107, 109, 112, 114, 116, 118, 120, 122, 130, 132, 133, 140, 145, 149, 150, 151, 153]\n",
      "*************************************\n",
      "*************************************\n"
     ]
    }
   ],
   "source": [
    "\n",
    "# 11.  Give us the id of repeated visitors. \n",
    "from collections import Counter\n",
    "freq = Counter(df['id'])\n",
    "# print freq\n",
    "ids = []\n",
    "for key in freq:\n",
    "    if (freq[key]) > 1:\n",
    "        ids.append(key)\n",
    "print ids\n",
    "print \"*************************************\"\n",
    "print \"*************************************\""
   ]
  },
  {
   "cell_type": "markdown",
   "metadata": {},
   "source": [
    "# Question 12."
   ]
  },
  {
   "cell_type": "code",
   "execution_count": 14,
   "metadata": {
    "collapsed": false
   },
   "outputs": [
    {
     "name": "stdout",
     "output_type": "stream",
     "text": [
      "id   Specialty      \n",
      "12   Dentist            2\n",
      "13   Orthopedic         2\n",
      "17   Dentist            2\n",
      "25   Gynae              2\n",
      "40   Dentist            2\n",
      "45   Dentist            3\n",
      "63   Dentist            2\n",
      "88   Dentist            2\n",
      "96   Dentist            2\n",
      "97   Psychotherapist    2\n",
      "100  Dentist            2\n",
      "101  Gynae              3\n",
      "107  Dentist            2\n",
      "109  Dentist            3\n",
      "112  Orthopedic         2\n",
      "114  Gynae              3\n",
      "116  Dentist            2\n",
      "120  M/o                2\n",
      "130  Psychotherapist    2\n",
      "132  Dentist            3\n",
      "140  Dentist            4\n",
      "145  Dentist            3\n",
      "149  Dentist            2\n",
      "151  Dentist            2\n",
      "153  Dentist            2\n",
      "Name: Specialty, dtype: int64\n",
      "*************************************\n",
      "*************************************\n"
     ]
    }
   ],
   "source": [
    "# 12. Which patients visited again for the same problem?\n",
    "\n",
    "dd = df.groupby(['id']).Specialty.value_counts()[df.groupby(['id']).Specialty.value_counts() > 1]\n",
    "print dd\n",
    "\n",
    "\n",
    "print \"*************************************\"\n",
    "print \"*************************************\""
   ]
  },
  {
   "cell_type": "markdown",
   "metadata": {},
   "source": [
    "# Question 13."
   ]
  },
  {
   "cell_type": "code",
   "execution_count": 15,
   "metadata": {
    "collapsed": false
   },
   "outputs": [
    {
     "name": "stdout",
     "output_type": "stream",
     "text": [
      "Sex\n",
      "F      30.0\n",
      "M      29.0\n",
      "NAN     NaN\n",
      "Name: Age, dtype: float64\n",
      "*************************************\n",
      "*************************************\n"
     ]
    }
   ],
   "source": [
    "# 13. What is the median age for Females and Males?\n",
    "print df.groupby(['Sex']).Age.median()\n",
    "print \"*************************************\"\n",
    "print \"*************************************\""
   ]
  },
  {
   "cell_type": "markdown",
   "metadata": {},
   "source": [
    "# Question 14."
   ]
  },
  {
   "cell_type": "code",
   "execution_count": 16,
   "metadata": {
    "collapsed": false
   },
   "outputs": [
    {
     "name": "stdout",
     "output_type": "stream",
     "text": [
      "222500.0\n",
      "*************************************\n",
      "*************************************\n"
     ]
    }
   ],
   "source": [
    "# 14. What is the total amount in balance?\n",
    "df['Amount_Balance'] = map(lambda x: str(x).replace(\",\", \"\"), df['Amount_Balance'])\n",
    "df['Amount_Balance'] = pd.to_numeric(df['Amount_Balance'], errors='coerce')\n",
    "print df.Amount_Balance.sum()\n",
    "print \"*************************************\"\n",
    "print \"*************************************\""
   ]
  },
  {
   "cell_type": "markdown",
   "metadata": {},
   "source": [
    "# Question 15."
   ]
  },
  {
   "cell_type": "code",
   "execution_count": 17,
   "metadata": {
    "collapsed": false
   },
   "outputs": [
    {
     "name": "stdout",
     "output_type": "stream",
     "text": [
      "83950.0\n",
      "*************************************\n",
      "*************************************\n"
     ]
    }
   ],
   "source": [
    "# 15. How much money was made by Procedure Type “Consultation”? \n",
    "print df.groupby('Procedure')['Total_Charges'].sum()[\"Consultation\"]\n",
    "print \"*************************************\"\n",
    "print \"*************************************\""
   ]
  },
  {
   "cell_type": "markdown",
   "metadata": {},
   "source": [
    "# Question 16."
   ]
  },
  {
   "cell_type": "code",
   "execution_count": 18,
   "metadata": {
    "collapsed": false
   },
   "outputs": [
    {
     "name": "stdout",
     "output_type": "stream",
     "text": [
      "0.028090455626\n",
      "*************************************\n",
      "*************************************\n"
     ]
    }
   ],
   "source": [
    "# 16.   Is there a relation between Age and Total Charges paid?\n",
    "print df['Age'].corr(df['Total_Charges'])\n",
    "print \"*************************************\"\n",
    "print \"*************************************\""
   ]
  },
  {
   "cell_type": "markdown",
   "metadata": {},
   "source": [
    "# Question 17."
   ]
  },
  {
   "cell_type": "code",
   "execution_count": 19,
   "metadata": {
    "collapsed": false
   },
   "outputs": [
    {
     "name": "stdout",
     "output_type": "stream",
     "text": [
      "30.0\n",
      "*************************************\n",
      "*************************************\n"
     ]
    }
   ],
   "source": [
    "# Q 17. Which Age group had highest number of visits?\n",
    "# print df.groupby('Age').\n",
    "import operator\n",
    "freq_age = Counter(df['Age'])\n",
    "print max(freq_age.iteritems(), key=operator.itemgetter(1))[0]\n",
    "print \"*************************************\"\n",
    "print \"*************************************\""
   ]
  },
  {
   "cell_type": "markdown",
   "metadata": {},
   "source": [
    "# Question 18."
   ]
  },
  {
   "cell_type": "code",
   "execution_count": 20,
   "metadata": {
    "collapsed": false
   },
   "outputs": [
    {
     "name": "stdout",
     "output_type": "stream",
     "text": [
      "22300.0\n",
      "*************************************\n",
      "*************************************\n"
     ]
    }
   ],
   "source": [
    "# Q 18. What is the total cost earned by Procedure Type X Ray and Scalling together\n",
    "print df.groupby('Procedure')['Total_Charges'].sum()[\"X Ray\"] + df.groupby('Procedure')['Total_Charges'].sum()[\"Scalling\"]\n",
    "print \"*************************************\"\n",
    "print \"*************************************\""
   ]
  },
  {
   "cell_type": "code",
   "execution_count": 21,
   "metadata": {
    "collapsed": true
   },
   "outputs": [],
   "source": [
    "df.to_csv(\"clean_hosp_data.csv\", sep=',')"
   ]
  }
 ],
 "metadata": {
  "kernelspec": {
   "display_name": "Python 2",
   "language": "python",
   "name": "python2"
  },
  "language_info": {
   "codemirror_mode": {
    "name": "ipython",
    "version": 2
   },
   "file_extension": ".py",
   "mimetype": "text/x-python",
   "name": "python",
   "nbconvert_exporter": "python",
   "pygments_lexer": "ipython2",
   "version": "2.7.13"
  }
 },
 "nbformat": 4,
 "nbformat_minor": 2
}
